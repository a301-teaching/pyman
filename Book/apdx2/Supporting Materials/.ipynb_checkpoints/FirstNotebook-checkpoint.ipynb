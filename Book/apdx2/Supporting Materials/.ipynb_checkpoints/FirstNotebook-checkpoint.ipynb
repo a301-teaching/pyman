{
 "metadata": {
  "name": ""
 },
 "nbformat": 3,
 "nbformat_minor": 0,
 "worksheets": [
  {
   "cells": [
    {
     "cell_type": "heading",
     "level": 1,
     "metadata": {},
     "source": [
      "Demo of IPython Notebook"
     ]
    },
    {
     "cell_type": "heading",
     "level": 2,
     "metadata": {},
     "source": [
      "David Pine"
     ]
    },
    {
     "cell_type": "code",
     "collapsed": false,
     "input": [
      "2+3"
     ],
     "language": "python",
     "metadata": {},
     "outputs": [
      {
       "metadata": {},
       "output_type": "pyout",
       "prompt_number": 1,
       "text": [
        "5"
       ]
      }
     ],
     "prompt_number": 1
    },
    {
     "cell_type": "code",
     "collapsed": false,
     "input": [
      "sin(pi/6.)"
     ],
     "language": "python",
     "metadata": {},
     "outputs": [
      {
       "metadata": {},
       "output_type": "pyout",
       "prompt_number": 2,
       "text": [
        "0.49999999999999994"
       ]
      }
     ],
     "prompt_number": 2
    },
    {
     "cell_type": "code",
     "collapsed": false,
     "input": [
      "plot([1,2,3,2,3,4,3,4,5])"
     ],
     "language": "python",
     "metadata": {},
     "outputs": [
      {
       "metadata": {},
       "output_type": "pyout",
       "prompt_number": 3,
       "text": [
        "[<matplotlib.lines.Line2D at 0x8e1fed0>]"
       ]
      },
      {
       "metadata": {},
       "output_type": "display_data",
       "png": "[encoded data removed]",
       "text": [
        "<matplotlib.figure.Figure at 0x6fb7430>"
       ]
      }
     ],
     "prompt_number": 3
    },
    {
     "cell_type": "code",
     "collapsed": false,
     "input": [
      "# Calculates time, gallons of gas used, and cost of gasoline for\n",
      "# a trip\n",
      "\n",
      "distance = float(raw_input(\"Input distance of trip in miles: \"))\n",
      "mpg = 30.               # car mileage\n",
      "speed = 60.             # average speed\n",
      "costPerGallon = 4.10    # price of gas\n",
      "\n",
      "time = distance/speed\n",
      "gallons = distance/mpg\n",
      "cost = gallons*costPerGallon\n",
      "\n",
      "print(\"\\nDuration of trip = {0:0.1f} hours\".format(time))\n",
      "print(\"Gasoline used = {0:0.1f} gallons (@ {1:0.0f} mpg)\"\n",
      "\t  .format(gallons, mpg))\n",
      "print(\"Cost of gasoline = ${0:0.2f} (@ ${1:0.2f}/gallon)\"\n",
      "\t  .format(cost, costPerGallon))"
     ],
     "language": "python",
     "metadata": {},
     "outputs": [
      {
       "name": "stdout",
       "output_type": "stream",
       "stream": "stdout",
       "text": [
        "Input distance of trip in miles: 450\n"
       ]
      },
      {
       "output_type": "stream",
       "stream": "stdout",
       "text": [
        "\n",
        "Duration of trip = 7.5 hours\n",
        "Gasoline used = 15.0 gallons (@ 30 mpg)\n",
        "Cost of gasoline = $61.50 (@ $4.10/gallon)\n"
       ]
      }
     ],
     "prompt_number": 4
    },
    {
     "cell_type": "markdown",
     "metadata": {},
     "source": [
      " The total distance $x$ traveled during a trip can be obtained by integrating the velocity $v(t)$ over the duration $T$ of the trip:\n",
      "    \\begin{align}\n",
      "        x = \\int_0^T v(t)\\, dt\n",
      "    \\end{align}"
     ]
    },
    {
     "cell_type": "code",
     "collapsed": false,
     "input": [
      "!cat LiamSelinaData.txt"
     ],
     "language": "python",
     "metadata": {},
     "outputs": [
      {
       "output_type": "stream",
       "stream": "stdout",
       "text": [
        "Date: 2013-09-16\r\n",
        "Data taken by Liam and Selena\r\n",
        "frequency (Hz) amplitude (mm)  amp error (mm)\r\n",
        "    0.7500        13.52         0.32\r\n",
        "    1.7885        12.11         0.92\r\n",
        "    2.8269        14.27         0.73\r\n",
        "    3.8654        16.60         2.06\r\n",
        "    4.9038        22.91         1.75\r\n",
        "    5.9423        35.28         0.91\r\n",
        "    6.9808        60.99         0.99\r\n",
        "    8.0192        33.38         0.36\r\n",
        "    9.0577        17.78         2.32\r\n",
        "   10.0962        10.99         0.21\r\n",
        "   11.1346         7.47         0.48\r\n",
        "   12.1731         6.72         0.51\r\n",
        "   13.2115         4.40         0.58\r\n",
        "   14.2500         4.07         0.63"
       ]
      }
     ],
     "prompt_number": 5
    },
    {
     "cell_type": "code",
     "collapsed": false,
     "input": [],
     "language": "python",
     "metadata": {},
     "outputs": []
    }
   ],
   "metadata": {}
  }
 ]
}